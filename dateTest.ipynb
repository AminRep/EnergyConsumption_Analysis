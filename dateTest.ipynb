{
 "cells": [
  {
   "cell_type": "code",
   "execution_count": 4,
   "id": "27956925-52f8-442f-95b4-a6347e4e2491",
   "metadata": {},
   "outputs": [
    {
     "name": "stdout",
     "output_type": "stream",
     "text": [
      "DatetimeIndex(['2018-01-01', '2018-02-01', '2018-03-01', '2018-03-01'], dtype='datetime64[ns]', freq=None)\n"
     ]
    }
   ],
   "source": [
    "import pandas as pd\n",
    "from datetime import timedelta\n",
    "\n",
    "# Example index with dates\n",
    "dates = [\n",
    "    '2018-01-01 00:00:00',\n",
    "    '2018-01-31 00:00:00',\n",
    "    '2018-02-28 00:00:00',\n",
    "    '2018-03-01 00:00:00'\n",
    "]\n",
    "\n",
    "# Convert to a pandas DatetimeIndex\n",
    "index = pd.to_datetime(dates)\n",
    "\n",
    "# Function to adjust dates\n",
    "def adjust_date(date):\n",
    "    # Check if the date is the last day of the month\n",
    "    if date == (date + timedelta(days=1)).replace(day=1) - timedelta(days=1):\n",
    "        return date + timedelta(days=1)  # Move to the first day of the next month\n",
    "    else:\n",
    "        return date  # Leave unchanged\n",
    "\n",
    "# Apply the function to the index\n",
    "adjusted_index = index.map(adjust_date)\n",
    "\n",
    "print(adjusted_index)"
   ]
  },
  {
   "cell_type": "code",
   "execution_count": null,
   "id": "c8be891b-1c29-4b6c-8cef-26f11bf062ee",
   "metadata": {},
   "outputs": [],
   "source": []
  }
 ],
 "metadata": {
  "kernelspec": {
   "display_name": "Python 3 (ipykernel)",
   "language": "python",
   "name": "python3"
  },
  "language_info": {
   "codemirror_mode": {
    "name": "ipython",
    "version": 3
   },
   "file_extension": ".py",
   "mimetype": "text/x-python",
   "name": "python",
   "nbconvert_exporter": "python",
   "pygments_lexer": "ipython3",
   "version": "3.12.4"
  }
 },
 "nbformat": 4,
 "nbformat_minor": 5
}
